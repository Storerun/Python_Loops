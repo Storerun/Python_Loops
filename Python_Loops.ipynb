{
 "cells": [
  {
   "cell_type": "code",
   "execution_count": null,
   "id": "56b8f778",
   "metadata": {},
   "outputs": [],
   "source": [
    "#loop types ; while and for loops\n",
    "#while loops\n",
    "# while expression:\n",
    "#    statement(s)\n",
    "    \n"
   ]
  },
  {
   "cell_type": "code",
   "execution_count": null,
   "id": "4dfa42e1",
   "metadata": {
    "scrolled": true
   },
   "outputs": [],
   "source": [
    "#while loops\n",
    "number=0\n",
    "while number < 10:\n",
    "    print(number, ' is less than 10.')\n",
    "    number +=1\n",
    "print('Done')    \n"
   ]
  },
  {
   "cell_type": "code",
   "execution_count": null,
   "id": "469531a1",
   "metadata": {},
   "outputs": [],
   "source": [
    "# infinte while loops\n",
    "x=1\n",
    "while x==1:\n",
    "    print('the number is: ', x)"
   ]
  },
  {
   "cell_type": "code",
   "execution_count": 11,
   "id": "11639187",
   "metadata": {},
   "outputs": [
    {
     "name": "stdout",
     "output_type": "stream",
     "text": [
      "0  is less than 10.\n",
      "1  is less than 10.\n",
      "2  is less than 10.\n",
      "3  is less than 10.\n",
      "4  is less than 10.\n",
      "5  is less than 10.\n",
      "6  is less than 10.\n",
      "7  is less than 10.\n",
      "8  is less than 10.\n",
      "9  is less than 10.\n",
      "10  is not less than 10\n"
     ]
    }
   ],
   "source": [
    "# using else statements with while loops\n",
    "number=0\n",
    "while number < 10:\n",
    "    print(number, ' is less than 10.')\n",
    "    number +=1\n",
    "else: \n",
    "    print(number, ' is not less than 10')"
   ]
  },
  {
   "cell_type": "code",
   "execution_count": null,
   "id": "a46701c4",
   "metadata": {},
   "outputs": [],
   "source": [
    "# For Loops\n",
    "# for iterating_var in sequence:\n",
    "#    statement"
   ]
  },
  {
   "cell_type": "code",
   "execution_count": 18,
   "id": "52f0e6a8",
   "metadata": {},
   "outputs": [
    {
     "name": "stdout",
     "output_type": "stream",
     "text": [
      "the index of [m] is 0\n",
      "the index of [a] is 1\n",
      "the index of [n] is 2\n",
      "the index of [g] is 3\n",
      "the index of [o] is 4\n",
      "the index of [e] is 5\n",
      "the index of [s] is 6\n"
     ]
    }
   ],
   "source": [
    "fruit= 'mangoes'\n",
    "for f in fruit:\n",
    "    print('the index of ['+ f + '] is '+ str(fruit.index(f)))"
   ]
  },
  {
   "cell_type": "code",
   "execution_count": 8,
   "id": "7e8d4d7d",
   "metadata": {},
   "outputs": [
    {
     "name": "stdout",
     "output_type": "stream",
     "text": [
      "fridge contains: vegetables\n",
      "fridge contains: water\n",
      "fridge contains: juice\n",
      "fridge contains: meat\n",
      "fridge contains: fruits\n",
      "All items in the fridge are accounted for.\n"
     ]
    }
   ],
   "source": [
    "# using else statements with for loop\n",
    "items_in_fridge = ['vegetables','water', 'juice', 'meat', 'fruits']\n",
    "for item in items_in_fridge:\n",
    "    print('fridge contains: '+ item)\n",
    "else: \n",
    "    print(\"All items in the fridge are accounted for.\")\n"
   ]
  },
  {
   "cell_type": "code",
   "execution_count": null,
   "id": "427e429e",
   "metadata": {},
   "outputs": [],
   "source": [
    "#nested loops syntax\n",
    "#nested for loops\n",
    "#for iterating_var in sequence:\n",
    "#    for iterating_var in sequence:\n",
    "#        statement(s)\n",
    "#    statement(s)\n",
    "    \n",
    "    \n",
    "# nested while loops\n",
    "# while expression:\n",
    "#    statement(s)\n"
   ]
  },
  {
   "cell_type": "code",
   "execution_count": 15,
   "id": "ef350369",
   "metadata": {},
   "outputs": [
    {
     "name": "stdout",
     "output_type": "stream",
     "text": [
      "G\n",
      "H\n",
      "A\n",
      "N\n",
      "A\n",
      "N\n",
      "I\n",
      "G\n",
      "E\n",
      "R\n",
      "I\n",
      "A\n",
      "E\n",
      "N\n",
      "G\n",
      "L\n",
      "A\n",
      "N\n",
      "D\n",
      "N\n",
      "O\n",
      "R\n",
      "W\n",
      "A\n",
      "Y\n",
      "B\n",
      "R\n",
      "A\n",
      "S\n",
      "I\n",
      "L\n"
     ]
    }
   ],
   "source": [
    "countries=['ghana','nigeria','england','norway', 'brasil']\n",
    "for country in countries:\n",
    "    for letter in country:\n",
    "        print(letter.upper())"
   ]
  },
  {
   "cell_type": "code",
   "execution_count": 7,
   "id": "2788c732",
   "metadata": {},
   "outputs": [
    {
     "name": "stdout",
     "output_type": "stream",
     "text": [
      "fridge contains: vegetables\n",
      "fridge contains: water\n",
      "fridge contains: juice\n"
     ]
    }
   ],
   "source": [
    "items_in_fridge = ['vegetables','water', 'juice', 'meat', 'fruits']\n",
    "for item in items_in_fridge:\n",
    "    if item == 'meat':\n",
    "        break\n",
    "    print('fridge contains: '+ item)"
   ]
  },
  {
   "cell_type": "code",
   "execution_count": 8,
   "id": "e3704196",
   "metadata": {},
   "outputs": [
    {
     "name": "stdout",
     "output_type": "stream",
     "text": [
      "fridge contains: vegetables\n",
      "fridge contains: water\n",
      "fridge contains: juice\n",
      "fridge contains: fruits\n"
     ]
    }
   ],
   "source": [
    "items_in_fridge = ['vegetables','water', 'juice', 'meat', 'fruits']\n",
    "for item in items_in_fridge:\n",
    "    if item == 'meat':\n",
    "       continue\n",
    "    print('fridge contains: '+ item)"
   ]
  },
  {
   "cell_type": "code",
   "execution_count": 11,
   "id": "da2d0848",
   "metadata": {},
   "outputs": [
    {
     "name": "stdout",
     "output_type": "stream",
     "text": [
      "fridge contains: vegetables\n",
      "fridge contains: water\n",
      "fridge contains: juice\n",
      "There is no meat\n",
      "fridge contains: meat\n",
      "fridge contains: fruits\n"
     ]
    }
   ],
   "source": [
    "items_in_fridge = ['vegetables','water', 'juice', 'meat', 'fruits']\n",
    "for item in items_in_fridge:\n",
    "    if item == 'meat':\n",
    "       pass\n",
    "       print(\"There is no meat\")\n",
    "\n",
    "    print('fridge contains: '+ item)"
   ]
  },
  {
   "cell_type": "code",
   "execution_count": null,
   "id": "30b7e9c6",
   "metadata": {},
   "outputs": [],
   "source": []
  }
 ],
 "metadata": {
  "kernelspec": {
   "display_name": "Python 3",
   "language": "python",
   "name": "python3"
  },
  "language_info": {
   "codemirror_mode": {
    "name": "ipython",
    "version": 3
   },
   "file_extension": ".py",
   "mimetype": "text/x-python",
   "name": "python",
   "nbconvert_exporter": "python",
   "pygments_lexer": "ipython3",
   "version": "3.8.8"
  }
 },
 "nbformat": 4,
 "nbformat_minor": 5
}
